{
  "nbformat": 4,
  "nbformat_minor": 0,
  "metadata": {
    "colab": {
      "provenance": []
    },
    "kernelspec": {
      "name": "python3",
      "display_name": "Python 3"
    },
    "language_info": {
      "name": "python"
    }
  },
  "cells": [
    {
      "cell_type": "markdown",
      "source": [
        "#Importing Important Libraries"
      ],
      "metadata": {
        "id": "3jwCdLINqLPi"
      }
    },
    {
      "cell_type": "code",
      "source": [
        "import re\n",
        "import nltk\n",
        "import pandas as pd\n",
        "import numpy as np"
      ],
      "metadata": {
        "id": "NWs61Xl6kQAf"
      },
      "execution_count": 11,
      "outputs": []
    },
    {
      "cell_type": "code",
      "source": [
        "nltk.download('punkt')\n",
        "nltk.download('wordnet')\n",
        "nltk.download('omw-1.4')\n",
        "nltk.download('stopwords')\n",
        "nltk.download('averaged_perceptron_tagger')\n",
        "nltk.download('maxent_ne_chunker')\n",
        "nltk.download('words')"
      ],
      "metadata": {
        "colab": {
          "base_uri": "https://localhost:8080/"
        },
        "id": "Y6ZYS_ozDGR_",
        "outputId": "1dd9ba91-bcad-44e5-f044-072283379faa"
      },
      "execution_count": 31,
      "outputs": [
        {
          "output_type": "stream",
          "name": "stderr",
          "text": [
            "[nltk_data] Downloading package punkt to /root/nltk_data...\n",
            "[nltk_data]   Unzipping tokenizers/punkt.zip.\n",
            "[nltk_data] Downloading package wordnet to /root/nltk_data...\n",
            "[nltk_data] Downloading package omw-1.4 to /root/nltk_data...\n"
          ]
        },
        {
          "output_type": "execute_result",
          "data": {
            "text/plain": [
              "True"
            ]
          },
          "metadata": {},
          "execution_count": 31
        }
      ]
    },
    {
      "cell_type": "code",
      "source": [
        "from google.colab import drive\n",
        "drive.mount('/content/drive')"
      ],
      "metadata": {
        "colab": {
          "base_uri": "https://localhost:8080/"
        },
        "id": "JHkHbTd_kD9e",
        "outputId": "7cf659de-fd81-48f6-88cc-7b4415406a65"
      },
      "execution_count": 12,
      "outputs": [
        {
          "output_type": "stream",
          "name": "stdout",
          "text": [
            "Drive already mounted at /content/drive; to attempt to forcibly remount, call drive.mount(\"/content/drive\", force_remount=True).\n"
          ]
        }
      ]
    },
    {
      "cell_type": "code",
      "source": [
        "filePath=\"/content/drive/MyDrive/Research Material/IMDB Dataset.csv\""
      ],
      "metadata": {
        "id": "hYbtnu5xkOss"
      },
      "execution_count": 13,
      "outputs": []
    },
    {
      "cell_type": "code",
      "source": [
        "data=pd.read_csv(filePath)"
      ],
      "metadata": {
        "id": "udeQg23Jk5SU"
      },
      "execution_count": 14,
      "outputs": []
    },
    {
      "cell_type": "code",
      "source": [
        "data.head()"
      ],
      "metadata": {
        "colab": {
          "base_uri": "https://localhost:8080/",
          "height": 206
        },
        "id": "HuHd4tvslFbH",
        "outputId": "ca966849-eb5b-4894-fe4f-6dc4252f75b9"
      },
      "execution_count": 15,
      "outputs": [
        {
          "output_type": "execute_result",
          "data": {
            "text/plain": [
              "                                              review sentiment\n",
              "0  One of the other reviewers has mentioned that ...  positive\n",
              "1  A wonderful little production. <br /><br />The...  positive\n",
              "2  I thought this was a wonderful way to spend ti...  positive\n",
              "3  Basically there's a family where a little boy ...  negative\n",
              "4  Petter Mattei's \"Love in the Time of Money\" is...  positive"
            ],
            "text/html": [
              "\n",
              "  <div id=\"df-867f1548-3b63-43b2-9441-a64f9870ee5c\" class=\"colab-df-container\">\n",
              "    <div>\n",
              "<style scoped>\n",
              "    .dataframe tbody tr th:only-of-type {\n",
              "        vertical-align: middle;\n",
              "    }\n",
              "\n",
              "    .dataframe tbody tr th {\n",
              "        vertical-align: top;\n",
              "    }\n",
              "\n",
              "    .dataframe thead th {\n",
              "        text-align: right;\n",
              "    }\n",
              "</style>\n",
              "<table border=\"1\" class=\"dataframe\">\n",
              "  <thead>\n",
              "    <tr style=\"text-align: right;\">\n",
              "      <th></th>\n",
              "      <th>review</th>\n",
              "      <th>sentiment</th>\n",
              "    </tr>\n",
              "  </thead>\n",
              "  <tbody>\n",
              "    <tr>\n",
              "      <th>0</th>\n",
              "      <td>One of the other reviewers has mentioned that ...</td>\n",
              "      <td>positive</td>\n",
              "    </tr>\n",
              "    <tr>\n",
              "      <th>1</th>\n",
              "      <td>A wonderful little production. &lt;br /&gt;&lt;br /&gt;The...</td>\n",
              "      <td>positive</td>\n",
              "    </tr>\n",
              "    <tr>\n",
              "      <th>2</th>\n",
              "      <td>I thought this was a wonderful way to spend ti...</td>\n",
              "      <td>positive</td>\n",
              "    </tr>\n",
              "    <tr>\n",
              "      <th>3</th>\n",
              "      <td>Basically there's a family where a little boy ...</td>\n",
              "      <td>negative</td>\n",
              "    </tr>\n",
              "    <tr>\n",
              "      <th>4</th>\n",
              "      <td>Petter Mattei's \"Love in the Time of Money\" is...</td>\n",
              "      <td>positive</td>\n",
              "    </tr>\n",
              "  </tbody>\n",
              "</table>\n",
              "</div>\n",
              "    <div class=\"colab-df-buttons\">\n",
              "\n",
              "  <div class=\"colab-df-container\">\n",
              "    <button class=\"colab-df-convert\" onclick=\"convertToInteractive('df-867f1548-3b63-43b2-9441-a64f9870ee5c')\"\n",
              "            title=\"Convert this dataframe to an interactive table.\"\n",
              "            style=\"display:none;\">\n",
              "\n",
              "  <svg xmlns=\"http://www.w3.org/2000/svg\" height=\"24px\" viewBox=\"0 -960 960 960\">\n",
              "    <path d=\"M120-120v-720h720v720H120Zm60-500h600v-160H180v160Zm220 220h160v-160H400v160Zm0 220h160v-160H400v160ZM180-400h160v-160H180v160Zm440 0h160v-160H620v160ZM180-180h160v-160H180v160Zm440 0h160v-160H620v160Z\"/>\n",
              "  </svg>\n",
              "    </button>\n",
              "\n",
              "  <style>\n",
              "    .colab-df-container {\n",
              "      display:flex;\n",
              "      gap: 12px;\n",
              "    }\n",
              "\n",
              "    .colab-df-convert {\n",
              "      background-color: #E8F0FE;\n",
              "      border: none;\n",
              "      border-radius: 50%;\n",
              "      cursor: pointer;\n",
              "      display: none;\n",
              "      fill: #1967D2;\n",
              "      height: 32px;\n",
              "      padding: 0 0 0 0;\n",
              "      width: 32px;\n",
              "    }\n",
              "\n",
              "    .colab-df-convert:hover {\n",
              "      background-color: #E2EBFA;\n",
              "      box-shadow: 0px 1px 2px rgba(60, 64, 67, 0.3), 0px 1px 3px 1px rgba(60, 64, 67, 0.15);\n",
              "      fill: #174EA6;\n",
              "    }\n",
              "\n",
              "    .colab-df-buttons div {\n",
              "      margin-bottom: 4px;\n",
              "    }\n",
              "\n",
              "    [theme=dark] .colab-df-convert {\n",
              "      background-color: #3B4455;\n",
              "      fill: #D2E3FC;\n",
              "    }\n",
              "\n",
              "    [theme=dark] .colab-df-convert:hover {\n",
              "      background-color: #434B5C;\n",
              "      box-shadow: 0px 1px 3px 1px rgba(0, 0, 0, 0.15);\n",
              "      filter: drop-shadow(0px 1px 2px rgba(0, 0, 0, 0.3));\n",
              "      fill: #FFFFFF;\n",
              "    }\n",
              "  </style>\n",
              "\n",
              "    <script>\n",
              "      const buttonEl =\n",
              "        document.querySelector('#df-867f1548-3b63-43b2-9441-a64f9870ee5c button.colab-df-convert');\n",
              "      buttonEl.style.display =\n",
              "        google.colab.kernel.accessAllowed ? 'block' : 'none';\n",
              "\n",
              "      async function convertToInteractive(key) {\n",
              "        const element = document.querySelector('#df-867f1548-3b63-43b2-9441-a64f9870ee5c');\n",
              "        const dataTable =\n",
              "          await google.colab.kernel.invokeFunction('convertToInteractive',\n",
              "                                                    [key], {});\n",
              "        if (!dataTable) return;\n",
              "\n",
              "        const docLinkHtml = 'Like what you see? Visit the ' +\n",
              "          '<a target=\"_blank\" href=https://colab.research.google.com/notebooks/data_table.ipynb>data table notebook</a>'\n",
              "          + ' to learn more about interactive tables.';\n",
              "        element.innerHTML = '';\n",
              "        dataTable['output_type'] = 'display_data';\n",
              "        await google.colab.output.renderOutput(dataTable, element);\n",
              "        const docLink = document.createElement('div');\n",
              "        docLink.innerHTML = docLinkHtml;\n",
              "        element.appendChild(docLink);\n",
              "      }\n",
              "    </script>\n",
              "  </div>\n",
              "\n",
              "\n",
              "<div id=\"df-7897b58e-3da2-4569-9a72-380a697da606\">\n",
              "  <button class=\"colab-df-quickchart\" onclick=\"quickchart('df-7897b58e-3da2-4569-9a72-380a697da606')\"\n",
              "            title=\"Suggest charts\"\n",
              "            style=\"display:none;\">\n",
              "\n",
              "<svg xmlns=\"http://www.w3.org/2000/svg\" height=\"24px\"viewBox=\"0 0 24 24\"\n",
              "     width=\"24px\">\n",
              "    <g>\n",
              "        <path d=\"M19 3H5c-1.1 0-2 .9-2 2v14c0 1.1.9 2 2 2h14c1.1 0 2-.9 2-2V5c0-1.1-.9-2-2-2zM9 17H7v-7h2v7zm4 0h-2V7h2v10zm4 0h-2v-4h2v4z\"/>\n",
              "    </g>\n",
              "</svg>\n",
              "  </button>\n",
              "\n",
              "<style>\n",
              "  .colab-df-quickchart {\n",
              "      --bg-color: #E8F0FE;\n",
              "      --fill-color: #1967D2;\n",
              "      --hover-bg-color: #E2EBFA;\n",
              "      --hover-fill-color: #174EA6;\n",
              "      --disabled-fill-color: #AAA;\n",
              "      --disabled-bg-color: #DDD;\n",
              "  }\n",
              "\n",
              "  [theme=dark] .colab-df-quickchart {\n",
              "      --bg-color: #3B4455;\n",
              "      --fill-color: #D2E3FC;\n",
              "      --hover-bg-color: #434B5C;\n",
              "      --hover-fill-color: #FFFFFF;\n",
              "      --disabled-bg-color: #3B4455;\n",
              "      --disabled-fill-color: #666;\n",
              "  }\n",
              "\n",
              "  .colab-df-quickchart {\n",
              "    background-color: var(--bg-color);\n",
              "    border: none;\n",
              "    border-radius: 50%;\n",
              "    cursor: pointer;\n",
              "    display: none;\n",
              "    fill: var(--fill-color);\n",
              "    height: 32px;\n",
              "    padding: 0;\n",
              "    width: 32px;\n",
              "  }\n",
              "\n",
              "  .colab-df-quickchart:hover {\n",
              "    background-color: var(--hover-bg-color);\n",
              "    box-shadow: 0 1px 2px rgba(60, 64, 67, 0.3), 0 1px 3px 1px rgba(60, 64, 67, 0.15);\n",
              "    fill: var(--button-hover-fill-color);\n",
              "  }\n",
              "\n",
              "  .colab-df-quickchart-complete:disabled,\n",
              "  .colab-df-quickchart-complete:disabled:hover {\n",
              "    background-color: var(--disabled-bg-color);\n",
              "    fill: var(--disabled-fill-color);\n",
              "    box-shadow: none;\n",
              "  }\n",
              "\n",
              "  .colab-df-spinner {\n",
              "    border: 2px solid var(--fill-color);\n",
              "    border-color: transparent;\n",
              "    border-bottom-color: var(--fill-color);\n",
              "    animation:\n",
              "      spin 1s steps(1) infinite;\n",
              "  }\n",
              "\n",
              "  @keyframes spin {\n",
              "    0% {\n",
              "      border-color: transparent;\n",
              "      border-bottom-color: var(--fill-color);\n",
              "      border-left-color: var(--fill-color);\n",
              "    }\n",
              "    20% {\n",
              "      border-color: transparent;\n",
              "      border-left-color: var(--fill-color);\n",
              "      border-top-color: var(--fill-color);\n",
              "    }\n",
              "    30% {\n",
              "      border-color: transparent;\n",
              "      border-left-color: var(--fill-color);\n",
              "      border-top-color: var(--fill-color);\n",
              "      border-right-color: var(--fill-color);\n",
              "    }\n",
              "    40% {\n",
              "      border-color: transparent;\n",
              "      border-right-color: var(--fill-color);\n",
              "      border-top-color: var(--fill-color);\n",
              "    }\n",
              "    60% {\n",
              "      border-color: transparent;\n",
              "      border-right-color: var(--fill-color);\n",
              "    }\n",
              "    80% {\n",
              "      border-color: transparent;\n",
              "      border-right-color: var(--fill-color);\n",
              "      border-bottom-color: var(--fill-color);\n",
              "    }\n",
              "    90% {\n",
              "      border-color: transparent;\n",
              "      border-bottom-color: var(--fill-color);\n",
              "    }\n",
              "  }\n",
              "</style>\n",
              "\n",
              "  <script>\n",
              "    async function quickchart(key) {\n",
              "      const quickchartButtonEl =\n",
              "        document.querySelector('#' + key + ' button');\n",
              "      quickchartButtonEl.disabled = true;  // To prevent multiple clicks.\n",
              "      quickchartButtonEl.classList.add('colab-df-spinner');\n",
              "      try {\n",
              "        const charts = await google.colab.kernel.invokeFunction(\n",
              "            'suggestCharts', [key], {});\n",
              "      } catch (error) {\n",
              "        console.error('Error during call to suggestCharts:', error);\n",
              "      }\n",
              "      quickchartButtonEl.classList.remove('colab-df-spinner');\n",
              "      quickchartButtonEl.classList.add('colab-df-quickchart-complete');\n",
              "    }\n",
              "    (() => {\n",
              "      let quickchartButtonEl =\n",
              "        document.querySelector('#df-7897b58e-3da2-4569-9a72-380a697da606 button');\n",
              "      quickchartButtonEl.style.display =\n",
              "        google.colab.kernel.accessAllowed ? 'block' : 'none';\n",
              "    })();\n",
              "  </script>\n",
              "</div>\n",
              "    </div>\n",
              "  </div>\n"
            ]
          },
          "metadata": {},
          "execution_count": 15
        }
      ]
    },
    {
      "cell_type": "code",
      "source": [
        "first_review=data.review[1]"
      ],
      "metadata": {
        "id": "PV5-jBcNlKI8"
      },
      "execution_count": 16,
      "outputs": []
    },
    {
      "cell_type": "markdown",
      "source": [
        "It seems our data needs preprocessing. The things we are focusing on ▶\n",
        "\n",
        "✴ **Text Cleaning**\n",
        "\n",
        "  ```Before diving into sophisticated techniques lets begin with the basics- text cleaning. Basically it involves converting all the words in a text to a similar form and removing unnecessary words and punctuations from text.```\n"
      ],
      "metadata": {
        "id": "Fuj0VERplVjb"
      }
    },
    {
      "cell_type": "markdown",
      "source": [
        "### **Cleaning**"
      ],
      "metadata": {
        "id": "soHa8GGrnnIp"
      }
    },
    {
      "cell_type": "code",
      "source": [
        "text= first_review[:200]"
      ],
      "metadata": {
        "id": "1FKzxnFS0Jf4"
      },
      "execution_count": 17,
      "outputs": []
    },
    {
      "cell_type": "code",
      "source": [
        "text"
      ],
      "metadata": {
        "colab": {
          "base_uri": "https://localhost:8080/",
          "height": 52
        },
        "id": "PH9lyTd_4cFE",
        "outputId": "e5592912-281a-4cd0-fb4c-3abd5bc5cc7b"
      },
      "execution_count": 18,
      "outputs": [
        {
          "output_type": "execute_result",
          "data": {
            "text/plain": [
              "'A wonderful little production. <br /><br />The filming technique is very unassuming- very old-time-BBC fashion and gives a comforting, and sometimes discomforting, sense of realism to the entire piece'"
            ],
            "application/vnd.google.colaboratory.intrinsic+json": {
              "type": "string"
            }
          },
          "metadata": {},
          "execution_count": 18
        }
      ]
    },
    {
      "cell_type": "markdown",
      "source": [
        "By using the python built in **lower()** method we can convert text data into lowercase. In the above text it seems there are some html tags. Most of the texts in the NLP projects are scrapped from different websites. Hence we need to remove html tags from our text as those tags do not add any value to our data. We can use **regular expressions** to remove html tags from our data.\n"
      ],
      "metadata": {
        "id": "qBsJJG0doaj6"
      }
    },
    {
      "cell_type": "code",
      "source": [
        "text=text.lower()"
      ],
      "metadata": {
        "id": "HvlAQi-Cm2E8"
      },
      "execution_count": 19,
      "outputs": []
    },
    {
      "cell_type": "code",
      "source": [
        "pattern = re.compile(r'<.*?>')\n",
        "text=pattern.sub(\"\",text)\n",
        "text"
      ],
      "metadata": {
        "colab": {
          "base_uri": "https://localhost:8080/",
          "height": 52
        },
        "id": "Tz51I_Tjnr5R",
        "outputId": "0cd2a96a-2120-42cd-af4c-9306c76cdc4a"
      },
      "execution_count": 20,
      "outputs": [
        {
          "output_type": "execute_result",
          "data": {
            "text/plain": [
              "'a wonderful little production. the filming technique is very unassuming- very old-time-bbc fashion and gives a comforting, and sometimes discomforting, sense of realism to the entire piece'"
            ],
            "application/vnd.google.colaboratory.intrinsic+json": {
              "type": "string"
            }
          },
          "metadata": {},
          "execution_count": 20
        }
      ]
    },
    {
      "cell_type": "code",
      "source": [
        "text=re.sub(r'[^\\w\\s]', '', text)"
      ],
      "metadata": {
        "id": "lOZC3Qx_o9J8"
      },
      "execution_count": 21,
      "outputs": []
    },
    {
      "cell_type": "code",
      "source": [
        "print(text)"
      ],
      "metadata": {
        "colab": {
          "base_uri": "https://localhost:8080/"
        },
        "id": "_MhL5DZ0AUEv",
        "outputId": "097584c8-af8e-44dc-cde7-4f9603f40f5b"
      },
      "execution_count": 22,
      "outputs": [
        {
          "output_type": "stream",
          "name": "stdout",
          "text": [
            "a wonderful little production the filming technique is very unassuming very oldtimebbc fashion and gives a comforting and sometimes discomforting sense of realism to the entire piece\n"
          ]
        }
      ]
    },
    {
      "cell_type": "markdown",
      "source": [
        "###✴ **Tokenization**\n",
        "\n",
        "One of the most common techniques for text tokenization is the whitespace tokenization. In this technique we split the sentence based on the space between tokens or words."
      ],
      "metadata": {
        "id": "0L8Ocr1topNs"
      }
    },
    {
      "cell_type": "code",
      "source": [
        "words=text.split()\n",
        "print(words)"
      ],
      "metadata": {
        "colab": {
          "base_uri": "https://localhost:8080/"
        },
        "id": "dqADhUsxAKDO",
        "outputId": "4896c750-045b-4573-8f42-6c472a5744a5"
      },
      "execution_count": 23,
      "outputs": [
        {
          "output_type": "stream",
          "name": "stdout",
          "text": [
            "['a', 'wonderful', 'little', 'production', 'the', 'filming', 'technique', 'is', 'very', 'unassuming', 'very', 'oldtimebbc', 'fashion', 'and', 'gives', 'a', 'comforting', 'and', 'sometimes', 'discomforting', 'sense', 'of', 'realism', 'to', 'the', 'entire', 'piece']\n"
          ]
        }
      ]
    },
    {
      "cell_type": "markdown",
      "source": [
        "We can use the **“word_tokenize”** function from ***nltk.tokenize*** to convert our text into tokens."
      ],
      "metadata": {
        "id": "SmAjF3VXo1YG"
      }
    },
    {
      "cell_type": "code",
      "source": [
        "from nltk.tokenize import word_tokenize\n",
        "\n",
        "words=word_tokenize(text)\n",
        "print(words)\n"
      ],
      "metadata": {
        "colab": {
          "base_uri": "https://localhost:8080/"
        },
        "id": "A5UxwCQmCl0l",
        "outputId": "c2cecccf-a0ae-49ab-f965-210a7d41aa8a"
      },
      "execution_count": 32,
      "outputs": [
        {
          "output_type": "stream",
          "name": "stdout",
          "text": [
            "['a', 'wonderful', 'little', 'production', 'the', 'filming', 'technique', 'is', 'very', 'unassuming', 'very', 'oldtimebbc', 'fashion', 'and', 'gives', 'a', 'comforting', 'and', 'sometimes', 'discomforting', 'sense', 'of', 'realism', 'to', 'the', 'entire', 'piece']\n"
          ]
        }
      ]
    },
    {
      "cell_type": "markdown",
      "source": [
        "Like word tokenizer there is a sentence level tokenizer in nltk package which separates sentences from texts.\n",
        "\n"
      ],
      "metadata": {
        "id": "K1SOfoSro-39"
      }
    },
    {
      "cell_type": "code",
      "source": [
        "from nltk.tokenize import sent_tokenize\n",
        "\n",
        "sentences=sent_tokenize(text)\n",
        "print(sentences)"
      ],
      "metadata": {
        "colab": {
          "base_uri": "https://localhost:8080/"
        },
        "id": "Lt7SVlbdEzCs",
        "outputId": "20aa3986-dbaf-490a-e26d-5f45ef90810b"
      },
      "execution_count": 33,
      "outputs": [
        {
          "output_type": "stream",
          "name": "stdout",
          "text": [
            "['a wonderful little production the filming technique is very unassuming very oldtimebbc fashion and gives a comforting and sometimes discomforting sense of realism to the entire piece']\n"
          ]
        }
      ]
    },
    {
      "cell_type": "markdown",
      "source": [
        "###✴ **StopWords**\n",
        "We can utilize the Natural Language Toolkit (*nltk*) module to remove **stopwords**. The below code portion shows the nltk package’s list of stopwords:"
      ],
      "metadata": {
        "id": "yo241MCxpEt_"
      }
    },
    {
      "cell_type": "code",
      "source": [
        "from nltk.corpus import stopwords\n",
        "stop_words=set(stopwords.words('english'))\n",
        "print(stop_words)"
      ],
      "metadata": {
        "colab": {
          "base_uri": "https://localhost:8080/"
        },
        "id": "YlCJVD_tVJe_",
        "outputId": "4fb0868c-394f-4f82-c526-30b6ecf1ca85"
      },
      "execution_count": 45,
      "outputs": [
        {
          "output_type": "stream",
          "name": "stdout",
          "text": [
            "{'him', 'theirs', 'only', \"won't\", 'or', 'out', 'won', 'you', 'did', 'some', 'to', 'is', 'if', 'ma', 'as', 'same', 'with', 'does', 'own', 'then', 'there', 'few', 'at', 'shan', 'them', 'her', 'ain', \"didn't\", 'were', \"she's\", 'had', 'no', \"shan't\", 'needn', 'now', 've', 'of', 'because', 'aren', 'wasn', 'once', 'just', 'any', 'until', 'from', \"you'd\", \"hasn't\", 'down', 'himself', 'itself', 'are', 'too', 'a', 'nor', 'was', 'isn', 'your', 'it', 'i', \"you're\", 'above', 'off', \"mustn't\", 'under', 'both', 'couldn', \"it's\", 'before', 'whom', 'the', 'we', 'hers', 'should', 'those', \"don't\", 'while', 'during', 'ours', 'yours', \"you'll\", 'up', \"couldn't\", 'd', 'm', 'she', 'having', 'have', 'that', 'me', 'when', 'such', 'what', 'which', 's', 'yourself', 'didn', 'again', 'themselves', \"wouldn't\", 'has', \"shouldn't\", 'these', 'its', 'don', \"that'll\", 'against', 'through', 'in', 'here', 'shouldn', 'am', 'all', 'for', \"hadn't\", 'on', 'mightn', 'than', \"doesn't\", 'not', 'can', 'y', 'further', 'weren', 'into', 'between', 'hasn', 'ourselves', 'our', \"needn't\", 'this', 'more', 'he', 'yourselves', 'how', 'my', 'been', 'each', 'mustn', \"wasn't\", 'most', 'being', 'about', \"mightn't\", \"aren't\", 'myself', 'who', 'o', 're', 'their', 'doing', 'doesn', 'below', 'so', 'herself', 'will', 't', 'after', 'hadn', \"haven't\", \"you've\", \"isn't\", 'where', 'wouldn', 'an', 'be', 'why', 'by', 'll', 'they', 'and', \"should've\", 'over', 'other', 'haven', 'his', 'do', 'but', \"weren't\", 'very'}\n"
          ]
        }
      ]
    },
    {
      "cell_type": "code",
      "source": [
        "text"
      ],
      "metadata": {
        "colab": {
          "base_uri": "https://localhost:8080/",
          "height": 52
        },
        "id": "QmSDUdyBVjAq",
        "outputId": "c26db8e5-9d21-4b90-badf-4196b68ed452"
      },
      "execution_count": 44,
      "outputs": [
        {
          "output_type": "execute_result",
          "data": {
            "text/plain": [
              "'a wonderful little production the filming technique is very unassuming very oldtimebbc fashion and gives a comforting and sometimes discomforting sense of realism to the entire piece'"
            ],
            "application/vnd.google.colaboratory.intrinsic+json": {
              "type": "string"
            }
          },
          "metadata": {},
          "execution_count": 44
        }
      ]
    },
    {
      "cell_type": "markdown",
      "source": [
        "The **remove_stopword()** function takes text as an input and removes stopwords from the text and returns the clean text."
      ],
      "metadata": {
        "id": "89836nGQpMni"
      }
    },
    {
      "cell_type": "code",
      "source": [
        "def remove_stopwords(text):\n",
        "  stop_words=set(stopwords.words('english'))\n",
        "  words=word_tokenize(text)\n",
        "  filtered_words=[word for word in words if word not in stop_words]\n",
        "  return ' '.join(filtered_words)"
      ],
      "metadata": {
        "id": "iCTCZ3MEUskC"
      },
      "execution_count": 42,
      "outputs": []
    },
    {
      "cell_type": "code",
      "source": [
        "processed_text=remove_stopwords(text)\n",
        "print(processed_text)"
      ],
      "metadata": {
        "colab": {
          "base_uri": "https://localhost:8080/"
        },
        "id": "7AsyM2KVVN-2",
        "outputId": "d3dd8567-3045-419b-a5e4-f1b1787f1717"
      },
      "execution_count": 43,
      "outputs": [
        {
          "output_type": "stream",
          "name": "stdout",
          "text": [
            "wonderful little production filming technique unassuming oldtimebbc fashion gives comforting sometimes discomforting sense realism entire piece\n"
          ]
        }
      ]
    },
    {
      "cell_type": "markdown",
      "source": [
        " ### ✴ **POS-Tagging**\n",
        "\n",
        " The *nltk* **“pos_tag”** method to get particular parts-of-speech for each word in a sentence.\n"
      ],
      "metadata": {
        "id": "W_lGKyxCpTDp"
      }
    },
    {
      "cell_type": "code",
      "source": [
        "from nltk import pos_tag\n",
        "words=word_tokenize(\"I shot an elephant in my pajamas\")\n",
        "pos_tag(words)"
      ],
      "metadata": {
        "colab": {
          "base_uri": "https://localhost:8080/"
        },
        "id": "E_KbrQfGYE1R",
        "outputId": "c2f97846-5f5c-40ad-c4c5-427667e80f20"
      },
      "execution_count": 50,
      "outputs": [
        {
          "output_type": "execute_result",
          "data": {
            "text/plain": [
              "[('I', 'PRP'),\n",
              " ('shot', 'VBP'),\n",
              " ('an', 'DT'),\n",
              " ('elephant', 'NN'),\n",
              " ('in', 'IN'),\n",
              " ('my', 'PRP$'),\n",
              " ('pajamas', 'NN')]"
            ]
          },
          "metadata": {},
          "execution_count": 50
        }
      ]
    },
    {
      "cell_type": "markdown",
      "source": [
        "###✴ **NER**\n",
        "\n",
        "Named Entity Recognition (NER) is an essential job in Natural Language Processing (NLP) that identifies and classifies entities (such as names of people, organizations, locations, dates, etc.) in text.  Named Entity Recognition can be used with the Natural Language Toolkit (nltk) package:"
      ],
      "metadata": {
        "id": "mjLT1rYWpZCu"
      }
    },
    {
      "cell_type": "code",
      "source": [
        "from nltk.chunk import ne_chunk\n",
        "\n",
        "def named_entity_recognition(sentence):\n",
        "  words=word_tokenize(sentence)\n",
        "  tagged_words=pos_tag(words)\n",
        "  named_entities=ne_chunk(tagged_words)\n",
        "  return named_entities\n",
        "\n",
        "sentence=\"Rajib just joined Facebook Inc. in San Francisco in 2024\"\n",
        "entities_tree=named_entity_recognition(sentence)\n",
        "print(entities_tree)"
      ],
      "metadata": {
        "colab": {
          "base_uri": "https://localhost:8080/"
        },
        "id": "9RU0BJxvawGz",
        "outputId": "4339a6cf-50e4-4d79-e4de-00fe4451e5c2"
      },
      "execution_count": 58,
      "outputs": [
        {
          "output_type": "stream",
          "name": "stdout",
          "text": [
            "(S\n",
            "  (GPE Rajib/NNP)\n",
            "  just/RB\n",
            "  joined/VBD\n",
            "  (ORGANIZATION Facebook/NNP Inc./NNP)\n",
            "  in/IN\n",
            "  (GPE San/NNP Francisco/NNP)\n",
            "  in/IN\n",
            "  2024/CD)\n"
          ]
        }
      ]
    },
    {
      "cell_type": "markdown",
      "source": [
        "In the above output, named entities are marked with their corresponding entity types, such as 'ORGANIZATION' for companies and 'GPE' for geopolitical entities (locations)."
      ],
      "metadata": {
        "id": "cqn3aK_9pond"
      }
    },
    {
      "cell_type": "markdown",
      "source": [
        "\n",
        "###✴ **Stemming**\n",
        "In Natural Language Processing (NLP), stemming is a text normalization approach that reduces words to their base or root form, often known as the stem. Words with comparable meanings should be grouped together via stemming, even if their inflected forms differ slightly. We can use nltk PorterStemmer method to implement stemming easily:"
      ],
      "metadata": {
        "id": "hyi10wBIpr_C"
      }
    },
    {
      "cell_type": "code",
      "source": [
        "from nltk.stem import PorterStemmer\n",
        "\n",
        "def stemming(sentence):\n",
        "  words=word_tokenize(sentence)\n",
        "  stemmed_words=[PorterStemmer().stem(word) for word in words]\n",
        "  return ' '.join(stemmed_words)\n",
        "\n",
        "sentence=\"\"\"Lets reduce some words into their original form\n",
        "          using stemming\"\"\"\n",
        "print(stemming(sentence))"
      ],
      "metadata": {
        "colab": {
          "base_uri": "https://localhost:8080/"
        },
        "id": "zT2ZVkfKdifZ",
        "outputId": "7288c328-debf-46c7-8157-b4cbf8a287dd"
      },
      "execution_count": 60,
      "outputs": [
        {
          "output_type": "stream",
          "name": "stdout",
          "text": [
            "let reduc some word into their origin form use stem\n"
          ]
        }
      ]
    },
    {
      "cell_type": "markdown",
      "source": [
        "It's important to note that stemming has its limitations, and sometimes the resulting stems may not be actual words. For example, “reduce” is converted to “reduc” which is not even a word."
      ],
      "metadata": {
        "id": "JV-GE32Mp5TI"
      }
    },
    {
      "cell_type": "markdown",
      "source": [
        "###✴ **Lemmatization**\n",
        "In Natural Language Processing (NLP), lemmatization is a text normalization approach that reduces words to their dictionary-based or basic form, or lemma. Lemmatization generates legitimate words and takes the word's context into account, yet its objective is identical to that of stemming.\n",
        "\n"
      ],
      "metadata": {
        "id": "wZdRBpnmp74O"
      }
    },
    {
      "cell_type": "code",
      "source": [
        "from nltk.stem import WordNetLemmatizer\n",
        "\n",
        "def lemmatization(sentence):\n",
        "  words=word_tokenize(sentence)\n",
        "  lemmatized_words=[WordNetLemmatizer().lemmatize(word,pos='v')\n",
        "                    for word in words]\n",
        "  return ' '.join(lemmatized_words)\n",
        "\n",
        "sentence=\"\"\"Lets reduce some words into their original form\n",
        "          using lemmatization\"\"\"\n",
        "print(lemmatization(sentence))"
      ],
      "metadata": {
        "colab": {
          "base_uri": "https://localhost:8080/"
        },
        "id": "HgeBtAyFfLoT",
        "outputId": "b18ea69a-1ee3-4098-aa1f-217896abadd3"
      },
      "execution_count": 66,
      "outputs": [
        {
          "output_type": "stream",
          "name": "stdout",
          "text": [
            "Lets reduce some word into their original form use lemmatization\n"
          ]
        }
      ]
    },
    {
      "cell_type": "markdown",
      "source": [
        "In above there is a parameter passed into the lemmatize method “pos=v” which is used to lemmatize the verbs in the sentence. By default it's set to noun. Lemmatization is commonly employed in tasks such as information retrieval, question answering, and language modeling.\n"
      ],
      "metadata": {
        "id": "k4fhifIlp_DB"
      }
    }
  ]
}